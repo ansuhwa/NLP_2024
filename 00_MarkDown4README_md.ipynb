{
  "nbformat": 4,
  "nbformat_minor": 0,
  "metadata": {
    "colab": {
      "provenance": [],
      "include_colab_link": true
    },
    "kernelspec": {
      "name": "python3",
      "display_name": "Python 3"
    },
    "language_info": {
      "name": "python"
    }
  },
  "cells": [
    {
      "cell_type": "markdown",
      "metadata": {
        "id": "view-in-github",
        "colab_type": "text"
      },
      "source": [
        "<a href=\"https://colab.research.google.com/github/ansuhwa/NLP_2024/blob/main/00_MarkDown4README_md.ipynb\" target=\"_parent\"><img src=\"https://colab.research.google.com/assets/colab-badge.svg\" alt=\"Open In Colab\"/></a>"
      ]
    },
    {
      "cell_type": "markdown",
      "source": [
        "# 🐱🐈🐾 **How to Use <font color= 'orange'>Markdown Language**\n",
        "\n",
        "* ## For <font color = 'red'> more syntax</font> of markdown langauge, [Clikck Here!](https://www.markdownguide.org/basic-syntax/)\n"
      ],
      "metadata": {
        "id": "-GDF6Lo2rnAa"
      }
    },
    {
      "cell_type": "markdown",
      "source": [
        "# NLP_2024\n",
        "\n",
        "# 🍎💕 **Python Language**\n",
        "\n",
        "## **Learning Python** using **Colab** ([Visit Colab homepage](https://colab.research.goole.com/)) and **Github** ([Visit Github homepage](https://github.com/)\n",
        "\n",
        "## **1. Sign up github** ([Visit a tutorial on Youtube](https://www.youtbe.com/watch?v=c-NikCpec7/u))\n",
        "## **2. Sign up Google Colaboratory** (ake. Colab) ([Visit a tutorial on Youtube](https://www.youtube.com/watch?v=c-NikVpec7U))\n",
        "\n",
        "### **3. Useful References**\n",
        "- Exercises 200 파이썬200제 by 장삼용.정보문화사 2017\n",
        "- [Jump to Python](https://wikidocs.net/book/1)\n",
        "- [wikidocs for nltk](https://wikidocs.net/21667)\n",
        "\n",
        "### **4. Markdown Language**\n",
        "* [Emoji] (https://gist.github.com/rxaviers/7360908)\n",
        "* [Markdown syntax] https://www.markdownguide.org/basic-syntax/)\n",
        "\n",
        "### 5. Class Materials\n",
        "\n",
        "| # | Sessions | Keywords |\n",
        "|:--:|:--:|:--:|\n",
        "| 1 | Markdown Languge 🎃 | font size, font color, bullet point, [syntax](https://www.markdownguide.org/basic-syntax)\n",
        "| 2 | Generating code cells 🌻 | codelines, run(execute) |\n",
        "| 3 | FiveTypesofData 🌟 | number, List, Tuple, Strings |"
      ],
      "metadata": {
        "id": "rXhX0Hv8xiR1"
      }
    }
  ]
}